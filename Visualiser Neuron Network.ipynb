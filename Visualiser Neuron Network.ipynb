{
 "cells": [
  {
   "cell_type": "code",
   "execution_count": 1,
   "metadata": {},
   "outputs": [],
   "source": [
    "import random\n",
    "\n",
    "from AlgorithmeGenetique import *\n",
    "\n",
    "from NeuroneNetwork.Network import *\n",
    "from NeuroneNetwork.Layer import *\n",
    "from NeuroneNetwork.Neurone import *\n",
    "from NeuroneNetwork.InputNeurone import *\n",
    "from NeuroneNetwork.OutputNeurone import *"
   ]
  },
  {
   "cell_type": "markdown",
   "metadata": {},
   "source": [
    "# Visualisation d'un Réseau de Neurones"
   ]
  },
  {
   "cell_type": "markdown",
   "metadata": {},
   "source": [
    "### Initialisation du Réseau de Neurones"
   ]
  },
  {
   "cell_type": "code",
   "execution_count": null,
   "metadata": {},
   "outputs": [],
   "source": [
    "def fullyConnectedNetworkGenerator():\n",
    "    \"\"\"créer un Network de Neurone fully connected et le retourne\n",
    "    Network fully connected : c à dire que tous les Neurones d'un Layer son reliés à tous les autres Neurones du Layer suivant\n",
    "\n",
    "    Returns:\n",
    "        Network: Network fully connected\n",
    "    \"\"\"\n",
    "    # Input Layer\n",
    "    neurones = []\n",
    "    for i in range(3):\n",
    "        label = \"InputNeurone\" + str(i)\n",
    "        inputDatas = [random.random()]\n",
    "        neurones.append(InputNeurone(label, inputDatas))\n",
    "    \n",
    "    inputLayer = Layer(\"InputLayer\", neurones)\n",
    "    \n",
    "    # HiddenLayer1\n",
    "    neurones = []\n",
    "    for i in range(5):\n",
    "        label = \"HiddenLayer1neurone\" + str(i)\n",
    "        bias = random.random()\n",
    "        inputs = []\n",
    "        for neurone in inputLayer.neurones:\n",
    "            weight = 0.1\n",
    "            inputs.append([neurone, weight])\n",
    "        neurones.append(Neurone(label, bias, inputs))\n",
    "    \n",
    "    hiddenLayer1 = Layer(\"HiddenLayer1\", neurones)\n",
    "        \n",
    "    # HiddenLayer2\n",
    "    neurones = []\n",
    "    for i in range(5):\n",
    "        label = \"HiddenLayer2neurone\" + str(i)\n",
    "        bias = random.random()\n",
    "        inputs = []\n",
    "        for neurone in hiddenLayer1.neurones:\n",
    "            weight = 0.1\n",
    "            inputs.append([neurone, weight])\n",
    "        neurones.append(Neurone(label, bias, inputs))\n",
    "    \n",
    "    hiddenLayer2 = Layer(\"HiddenLayer2\", neurones)\n",
    "        \n",
    "    # HiddenLayer3\n",
    "    neurones = []\n",
    "    for i in range(5):\n",
    "        label = \"HiddenLayer3neurone\" + str(i)\n",
    "        bias = random.random()\n",
    "        inputs = []\n",
    "        for neurone in hiddenLayer2.neurones:\n",
    "            weight = 0.1\n",
    "            inputs.append([neurone, weight])\n",
    "        neurones.append(Neurone(label, bias, inputs))\n",
    "    \n",
    "    hiddenLayer3 = Layer(\"HiddenLayer3\", neurones)\n",
    "    \n",
    "    # Output Layer\n",
    "    neurones = []\n",
    "    for i in range(3):\n",
    "        label = \"OutputNeurone\" + str(i)\n",
    "        bias = random.random()\n",
    "        inputs = []\n",
    "        for neurone in hiddenLayer3.neurones:\n",
    "            weight = 0.1\n",
    "            inputs.append([neurone, weight])\n",
    "        neurones.append(OutputNeurone(label, bias, inputs, 0))\n",
    "    \n",
    "    OutputLayer = Layer(\"OutputLayer\", neurones)\n",
    "    \n",
    "    R = Network([inputLayer, hiddenLayer1, hiddenLayer2, hiddenLayer3, OutputLayer])\n",
    "    \n",
    "    print(R.representation())\n",
    "    \n",
    "    return R\n",
    "    \n",
    "    \n",
    "# R = fullyConnectedNetworkGenerator()"
   ]
  },
  {
   "cell_type": "markdown",
   "metadata": {},
   "source": [
    "### INITIALISATION DU RESEAU"
   ]
  },
  {
   "cell_type": "code",
   "execution_count": null,
   "metadata": {},
   "outputs": [],
   "source": [
    "R = networkGenerator([4, -6], [\"UP\", \"DOWN\"])\n",
    "R.drawNeuroneNetwork()"
   ]
  },
  {
   "cell_type": "markdown",
   "metadata": {},
   "source": [
    "### MUTATION CREATION CONNEXION"
   ]
  },
  {
   "cell_type": "code",
   "execution_count": null,
   "metadata": {},
   "outputs": [],
   "source": [
    "mutationCreationConnexion(R)\n",
    "R.drawNeuroneNetwork()"
   ]
  },
  {
   "cell_type": "markdown",
   "metadata": {},
   "source": [
    "### MUTATION CREATION NEURONE"
   ]
  },
  {
   "cell_type": "code",
   "execution_count": null,
   "metadata": {},
   "outputs": [],
   "source": [
    "mutationCreationNeurone(R)\n",
    "R.drawNeuroneNetwork()"
   ]
  },
  {
   "cell_type": "markdown",
   "metadata": {},
   "source": [
    "### MUTATION CREATION LAYER"
   ]
  },
  {
   "cell_type": "code",
   "execution_count": null,
   "metadata": {},
   "outputs": [],
   "source": [
    "mutationCreationLayer(R)\n",
    "R.drawNeuroneNetwork()"
   ]
  },
  {
   "cell_type": "markdown",
   "metadata": {},
   "source": [
    "### MUTATION SWAP CONNEXION"
   ]
  },
  {
   "cell_type": "code",
   "execution_count": null,
   "metadata": {},
   "outputs": [],
   "source": [
    "mutationSwapConnexion(R)\n",
    "R.drawNeuroneNetwork()"
   ]
  },
  {
   "cell_type": "markdown",
   "metadata": {},
   "source": [
    "### MUTATION SWAP NEURONE"
   ]
  },
  {
   "cell_type": "code",
   "execution_count": null,
   "metadata": {},
   "outputs": [],
   "source": [
    "mutationSwapNeurone(R)\n",
    "R.drawNeuroneNetwork()"
   ]
  },
  {
   "cell_type": "markdown",
   "metadata": {},
   "source": [
    "### MUTATION SWAP LAYER"
   ]
  },
  {
   "cell_type": "code",
   "execution_count": null,
   "metadata": {},
   "outputs": [],
   "source": [
    "mutationSwapLayer(R)\n",
    "\n",
    "R.drawNeuroneNetwork()"
   ]
  },
  {
   "cell_type": "markdown",
   "metadata": {},
   "source": [
    "### MUTATION SUPPRESSION CONNEXION"
   ]
  },
  {
   "cell_type": "code",
   "execution_count": null,
   "metadata": {},
   "outputs": [],
   "source": [
    "mutationSuppressionConnexion(R)\n",
    "R.drawNeuroneNetwork()"
   ]
  },
  {
   "cell_type": "markdown",
   "metadata": {},
   "source": [
    "### MUTATION SUPPRESSION NEURONE"
   ]
  },
  {
   "cell_type": "code",
   "execution_count": null,
   "metadata": {},
   "outputs": [],
   "source": [
    "mutationSuppressionNeurone(R)\n",
    "R.drawNeuroneNetwork()"
   ]
  },
  {
   "cell_type": "markdown",
   "metadata": {},
   "source": [
    "### MUTATION SUPPRESSION LAYER"
   ]
  },
  {
   "cell_type": "code",
   "execution_count": null,
   "metadata": {},
   "outputs": [],
   "source": [
    "mutationSuppressionLayer(R)\n",
    "print(R.representation())\n",
    "R.drawNeuroneNetwork()"
   ]
  },
  {
   "cell_type": "code",
   "execution_count": 3,
   "metadata": {},
   "outputs": [
    {
     "name": "stdout",
     "output_type": "stream",
     "text": [
      "890.88\n",
      "865.49\n",
      "206.99\n",
      "0\n",
      "\n",
      "890.88\n",
      "865.49\n",
      "206.99\n",
      "0\n"
     ]
    }
   ],
   "source": [
    "from Grille import *\n",
    "from SaveAndLoadSnake import *\n",
    "\n",
    "GRILLE = Grille(250, 300)\n",
    "INPUTS = GRILLE.matrice.flatten().tolist()\n",
    "OUTPUTS = [\"UP\", \"DOWN\", \"LEFT\", \"RIGHT\"]\n",
    "\n",
    "R1 = networkGenerator(INPUTS, OUTPUTS)\n",
    "for neurone in R1.layers[-1].neurones:\n",
    "    print(neurone.forwardPropagation())\n",
    "saveNetwork(R1, \"test.txt\")\n",
    "# R1.drawNeuroneNetwork()\n",
    "\n",
    "R2 = loadNetwork(\"test.txt\", INPUTS, OUTPUTS)\n",
    "saveNetwork(R2, \"test2.txt\")\n",
    "# R2.drawNeuroneNetwork()\n",
    "\n",
    "print()\n",
    "\n",
    "for neurone in R2.layers[-1].neurones:\n",
    "    print(neurone.forwardPropagation())"
   ]
  }
 ],
 "metadata": {
  "kernelspec": {
   "display_name": "Python 3",
   "language": "python",
   "name": "python3"
  },
  "language_info": {
   "codemirror_mode": {
    "name": "ipython",
    "version": 3
   },
   "file_extension": ".py",
   "mimetype": "text/x-python",
   "name": "python",
   "nbconvert_exporter": "python",
   "pygments_lexer": "ipython3",
   "version": "3.9.13"
  }
 },
 "nbformat": 4,
 "nbformat_minor": 2
}
